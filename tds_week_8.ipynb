{
  "nbformat": 4,
  "nbformat_minor": 0,
  "metadata": {
    "colab": {
      "provenance": [],
      "authorship_tag": "ABX9TyNPc0i10vBTF7WsDBI5n/Cf",
      "include_colab_link": true
    },
    "kernelspec": {
      "name": "python3",
      "display_name": "Python 3"
    },
    "language_info": {
      "name": "python"
    }
  },
  "cells": [
    {
      "cell_type": "markdown",
      "metadata": {
        "id": "view-in-github",
        "colab_type": "text"
      },
      "source": [
        "<a href=\"https://colab.research.google.com/github/ravindranaithani/ravindranaithani/blob/main/tds_week_8.ipynb\" target=\"_parent\"><img src=\"https://colab.research.google.com/assets/colab-badge.svg\" alt=\"Open In Colab\"/></a>"
      ]
    },
    {
      "cell_type": "code",
      "execution_count": 15,
      "metadata": {
        "id": "cHI_TPX09hQ8"
      },
      "outputs": [],
      "source": [
        "!pip install streamlit"
      ]
    },
    {
      "cell_type": "code",
      "source": [
        "!pip install pyngrok"
      ],
      "metadata": {
        "id": "CFt1G5bo-frE"
      },
      "execution_count": null,
      "outputs": []
    },
    {
      "cell_type": "code",
      "source": [
        "import streamlit as st\n",
        "st.title('webapp to find largest among three numbers')\n",
        "st.header('Enter your inputs here')\n",
        "first_number = st.number_input('Enter first number')\n",
        "second_number = st.number_input('Enter second number')\n",
        "third_number = st.number_input('Enter Third number')\n",
        "def find_largest_number(First,Second,Third):\n",
        "  list = [First,Second,Third]\n",
        "  Max_Num = max(list)\n",
        "  st.success(f'Largest = {Max_Num}')\n",
        "if st.button('Calculate result'):\n",
        "  find_largest_number(first_number,second_number,third_number)\n",
        "\n"
      ],
      "metadata": {
        "id": "YvPhBECL9v-I"
      },
      "execution_count": 18,
      "outputs": []
    }
  ]
}