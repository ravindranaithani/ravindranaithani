{
  "nbformat": 4,
  "nbformat_minor": 0,
  "metadata": {
    "colab": {
      "provenance": [],
      "authorship_tag": "ABX9TyNN+IhWuBPyoDQ/qbvcQj2H",
      "include_colab_link": true
    },
    "kernelspec": {
      "name": "python3",
      "display_name": "Python 3"
    },
    "language_info": {
      "name": "python"
    }
  },
  "cells": [
    {
      "cell_type": "markdown",
      "metadata": {
        "id": "view-in-github",
        "colab_type": "text"
      },
      "source": [
        "<a href=\"https://colab.research.google.com/github/ravindranaithani/ravindranaithani/blob/main/tds_week_8.ipynb\" target=\"_parent\"><img src=\"https://colab.research.google.com/assets/colab-badge.svg\" alt=\"Open In Colab\"/></a>"
      ]
    },
    {
      "cell_type": "code",
      "source": [
        "# Code to create the app.py file\n",
        "code = \"\"\"\n",
        "import streamlit as st\n",
        "\n",
        "st.title('Web App to Find the Largest Among Three Numbers')\n",
        "st.header('Enter your inputs here')\n",
        "\n",
        "# Collect user inputs\n",
        "first_number = st.number_input('Enter the first number')\n",
        "second_number = st.number_input('Enter the second number')\n",
        "third_number = st.number_input('Enter the third number')\n",
        "\n",
        "def find_largest_number(first, second, third):\n",
        "    numbers = [first, second, third]\n",
        "    max_num = max(numbers)\n",
        "    st.success(f'Largest = {max_num}')\n",
        "\n",
        "if st.button('Calculate result'):\n",
        "    find_largest_number(first_number, second_number, third_number)\n",
        "\"\"\"\n",
        "\n",
        "# Write the code to a file named app.py\n",
        "with open('/content/app.py', 'w') as f:\n",
        "    f.write(code)\n",
        "\n"
      ],
      "metadata": {
        "id": "YN2IeIrNJ3zK"
      },
      "execution_count": 37,
      "outputs": []
    }
  ]
}