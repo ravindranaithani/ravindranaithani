{
  "nbformat": 4,
  "nbformat_minor": 0,
  "metadata": {
    "colab": {
      "provenance": [],
      "authorship_tag": "ABX9TyOHB7/aC5I2hY3HpVHD0OYk",
      "include_colab_link": true
    },
    "kernelspec": {
      "name": "python3",
      "display_name": "Python 3"
    },
    "language_info": {
      "name": "python"
    }
  },
  "cells": [
    {
      "cell_type": "markdown",
      "metadata": {
        "id": "view-in-github",
        "colab_type": "text"
      },
      "source": [
        "<a href=\"https://colab.research.google.com/github/ravindranaithani/ravindranaithani/blob/main/TDS_WEEK8.ipynb\" target=\"_parent\"><img src=\"https://colab.research.google.com/assets/colab-badge.svg\" alt=\"Open In Colab\"/></a>"
      ]
    },
    {
      "cell_type": "code",
      "execution_count": 15,
      "metadata": {
        "id": "cHI_TPX09hQ8"
      },
      "outputs": [],
      "source": [
        "!pip install streamlit"
      ]
    },
    {
      "cell_type": "code",
      "source": [
        "!pip install pyngrok"
      ],
      "metadata": {
        "id": "CFt1G5bo-frE"
      },
      "execution_count": null,
      "outputs": []
    },
    {
      "cell_type": "code",
      "source": [
        "%%writefile app.py\n",
        "\n",
        "import streamlit as st\n",
        "\n",
        "def find_largest_number(a, b, c):\n",
        "    return max(a, b, c)\n",
        "\n",
        "def main():\n",
        "    st.title(\"Largest Number Finder\")\n",
        "\n",
        "    # Input values\n",
        "    a = st.number_input(\"Enter the first number:\", key=\"a\")\n",
        "    b = st.number_input(\"Enter the second number:\", key=\"b\")\n",
        "    c = st.number_input(\"Enter the third number:\", key=\"c\")\n",
        "\n",
        "    # Find the largest number\n",
        "    result = find_largest_number(a, b, c)\n",
        "\n",
        "    # Display the result\n",
        "    st.write(f\"The largest number among {a}, {b}, and {c} is: {result}\")\n",
        "\n",
        "if __name__ == \"__main__\":\n",
        "    main()"
      ],
      "metadata": {
        "colab": {
          "base_uri": "https://localhost:8080/"
        },
        "id": "YvPhBECL9v-I",
        "outputId": "104b0641-92d5-460c-f73b-52b50f7eb091"
      },
      "execution_count": 14,
      "outputs": [
        {
          "output_type": "stream",
          "name": "stdout",
          "text": [
            "Overwriting app.py\n"
          ]
        }
      ]
    }
  ]
}